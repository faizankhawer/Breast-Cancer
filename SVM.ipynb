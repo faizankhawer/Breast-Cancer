{
 "cells": [
  {
   "cell_type": "code",
   "execution_count": 23,
   "metadata": {},
   "outputs": [
    {
     "name": "stdout",
     "output_type": "stream",
     "text": [
      "559\n",
      "94.28571428571428\n",
      "[2]\n"
     ]
    }
   ],
   "source": [
    "import numpy as np\n",
    "from sklearn import svm\n",
    "from sklearn.model_selection import train_test_split\n",
    "import pandas as pd\n",
    "\n",
    "df= pd.read_csv(\"breast-cancer-wisconsin.txt\")\n",
    "df.replace('?', -99999, inplace=True )\n",
    "df.drop(['id'], 1, inplace=True)\n",
    "\n",
    "X = np.array(df.drop(['class'], 1))\n",
    "y = np.array(df['class'])\n",
    "\n",
    "X_train, X_test, y_train, y_test = train_test_split(X,y, test_size=0.2)\n",
    "#X_train = X_train[:len(X)/100] \n",
    "#y_train = y_train[:len(y_train)/100] \n",
    "\n",
    "print(len(X_train))\n",
    "\n",
    "clf = svm.SVC(gamma = 'auto', C=1, kernel=\"rbf\")\n",
    "clf.fit(X_train, y_train)\n",
    "\n",
    "accuracy = clf.score(X_test,y_test)\n",
    "accuracy = accuracy*100\n",
    "\n",
    "print(accuracy)\n",
    "\n",
    "new_predicted_data = np.array([2,3,1,2,1,1,2,2,3])\n",
    "new_predicted_data = new_predicted_data.reshape(1,-1)\n",
    "prediction = clf.predict(new_predicted_data)\n",
    "print(prediction)"
   ]
  },
  {
   "cell_type": "code",
   "execution_count": null,
   "metadata": {},
   "outputs": [],
   "source": []
  }
 ],
 "metadata": {
  "kernelspec": {
   "display_name": "Python 3",
   "language": "python",
   "name": "python3"
  },
  "language_info": {
   "codemirror_mode": {
    "name": "ipython",
    "version": 3
   },
   "file_extension": ".py",
   "mimetype": "text/x-python",
   "name": "python",
   "nbconvert_exporter": "python",
   "pygments_lexer": "ipython3",
   "version": "3.7.1"
  }
 },
 "nbformat": 4,
 "nbformat_minor": 2
}
